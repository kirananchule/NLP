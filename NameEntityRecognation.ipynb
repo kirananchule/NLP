{
 "cells": [
  {
   "cell_type": "code",
   "execution_count": 1,
   "id": "5c93e753",
   "metadata": {},
   "outputs": [],
   "source": [
    "\"\"\"\n",
    "person\n",
    "place\n",
    "date\n",
    "time\n",
    "money\n",
    "organization\n",
    "percentage\n",
    "\"\"\"\n",
    "\n",
    "sentence = \"\"\"The Eiffel tower was build by french engineer Gustave Eiffel from 1887 to 1889,\n",
    "            whose company was famous in building metal construction wok\"\"\""
   ]
  },
  {
   "cell_type": "code",
   "execution_count": 2,
   "id": "0a64bf36",
   "metadata": {},
   "outputs": [],
   "source": [
    "import nltk\n",
    "word = nltk.word_tokenize(sentence)"
   ]
  },
  {
   "cell_type": "code",
   "execution_count": 3,
   "id": "874386ee",
   "metadata": {},
   "outputs": [],
   "source": [
    "tag_element = nltk.pos_tag(word)"
   ]
  },
  {
   "cell_type": "code",
   "execution_count": 6,
   "id": "be4b8b3c",
   "metadata": {},
   "outputs": [
    {
     "name": "stderr",
     "output_type": "stream",
     "text": [
      "[nltk_data] Downloading package maxent_ne_chunker to\n",
      "[nltk_data]     C:\\Users\\User\\AppData\\Roaming\\nltk_data...\n",
      "[nltk_data]   Unzipping chunkers\\maxent_ne_chunker.zip.\n"
     ]
    },
    {
     "data": {
      "text/plain": [
       "True"
      ]
     },
     "execution_count": 6,
     "metadata": {},
     "output_type": "execute_result"
    }
   ],
   "source": [
    "nltk.download('maxent_ne_chunker')"
   ]
  },
  {
   "cell_type": "code",
   "execution_count": 8,
   "id": "6e8a78b7",
   "metadata": {},
   "outputs": [
    {
     "name": "stderr",
     "output_type": "stream",
     "text": [
      "[nltk_data] Downloading package words to\n",
      "[nltk_data]     C:\\Users\\User\\AppData\\Roaming\\nltk_data...\n",
      "[nltk_data]   Unzipping corpora\\words.zip.\n"
     ]
    },
    {
     "data": {
      "text/plain": [
       "True"
      ]
     },
     "execution_count": 8,
     "metadata": {},
     "output_type": "execute_result"
    }
   ],
   "source": [
    "nltk.download('words')"
   ]
  },
  {
   "cell_type": "code",
   "execution_count": 10,
   "id": "628bea7e",
   "metadata": {},
   "outputs": [],
   "source": [
    "nltk.ne_chunk(tag_element).draw()"
   ]
  },
  {
   "cell_type": "code",
   "execution_count": null,
   "id": "d60feb23",
   "metadata": {},
   "outputs": [],
   "source": []
  }
 ],
 "metadata": {
  "kernelspec": {
   "display_name": "Python 3 (ipykernel)",
   "language": "python",
   "name": "python3"
  },
  "language_info": {
   "codemirror_mode": {
    "name": "ipython",
    "version": 3
   },
   "file_extension": ".py",
   "mimetype": "text/x-python",
   "name": "python",
   "nbconvert_exporter": "python",
   "pygments_lexer": "ipython3",
   "version": "3.11.4"
  }
 },
 "nbformat": 4,
 "nbformat_minor": 5
}
